{
  "cells": [
    {
      "cell_type": "markdown",
      "metadata": {
        "id": "-89_Z_je0cfL"
      },
      "source": [
        "# Assignment 6.2\n",
        "\n"
      ]
    },
    {
      "cell_type": "code",
      "source": [
        "from functools import wraps\n",
        "import inspect"
      ],
      "metadata": {
        "id": "Z0n75j5B5O1e"
      },
      "execution_count": 21,
      "outputs": []
    },
    {
      "cell_type": "markdown",
      "metadata": {
        "id": "iEwuf_DP0cfM"
      },
      "source": [
        "### Task 1\n",
        "\n",
        "Write a decorator that ensures a function is only called by users with a specific role. Each function should have an user_type with a string type in kwargs."
      ]
    },
    {
      "cell_type": "code",
      "execution_count": 17,
      "metadata": {
        "id": "IWVOCWxx0cfM",
        "tags": [
          "task_1"
        ],
        "colab": {
          "base_uri": "https://localhost:8080/"
        },
        "outputId": "f3a767db-3df2-4a28-9680-786faeef1fea"
      },
      "outputs": [
        {
          "output_type": "stream",
          "name": "stdout",
          "text": [
            "Permission denied\n"
          ]
        }
      ],
      "source": [
        "def is_admin(func):\n",
        "    @wraps(func)\n",
        "    def wrapper(*args, **kwargs):\n",
        "        if kwargs.get('user_type') != 'admin':\n",
        "            raise ValueError(\"Permission denied\")\n",
        "        return func(*args, **kwargs)\n",
        "    return wrapper\n",
        "\n",
        "@is_admin\n",
        "def show_customer_receipt(user_type: str):\n",
        "    print(\"Showing customer receipt...\")\n",
        "\n",
        "try:\n",
        "    show_customer_receipt(user_type='user')\n",
        "except ValueError as e:\n",
        "    print(e)\n",
        "\n",
        "#show_customer_receipt(user_type='admin')\n"
      ]
    },
    {
      "cell_type": "markdown",
      "metadata": {
        "id": "2z8HqsaK0cfN"
      },
      "source": [
        "### Task 2\n",
        "\n",
        "Write a decorator that wraps a function in a try-except block and prints an error if any type of error has happened."
      ]
    },
    {
      "cell_type": "code",
      "execution_count": 13,
      "metadata": {
        "id": "kva_9ycA0cfN",
        "tags": [
          "task_2"
        ],
        "colab": {
          "base_uri": "https://localhost:8080/"
        },
        "outputId": "0950ab1a-eb6c-40cd-bcf7-453f2217f974"
      },
      "outputs": [
        {
          "output_type": "stream",
          "name": "stdout",
          "text": [
            "bar\n"
          ]
        }
      ],
      "source": [
        "def catch_errors(func):\n",
        "    @wraps(func)\n",
        "    def wrapper(*args, **kwargs):\n",
        "        try:\n",
        "            return func(*args, **kwargs)\n",
        "        except Exception as e:\n",
        "            print(f\"Found 1 error during execution of your function: {type(e).__name__} {e}\")\n",
        "    return wrapper\n",
        "\n",
        "@catch_errors\n",
        "def some_function_with_risky_operation(data):\n",
        "    print(data['key'])\n",
        "\n",
        "#some_function_with_risky_operation({'foo': 'bar'})\n",
        "\n",
        "some_function_with_risky_operation({'key': 'bar'})\n"
      ]
    },
    {
      "cell_type": "markdown",
      "metadata": {
        "id": "IqjW7SGS0cfN"
      },
      "source": [
        "### Task 3 (optional)\n",
        "\n",
        "Create a decorator that will check types. It should take a function with arguments and validate inputs with annotations. It should work for all possible functions. Don`t forget to check the return type as well"
      ]
    },
    {
      "cell_type": "code",
      "execution_count": 22,
      "metadata": {
        "id": "p83RQvA40cfN",
        "tags": [
          "task_3"
        ],
        "colab": {
          "base_uri": "https://localhost:8080/"
        },
        "outputId": "3d7e416f-a6b6-47c7-c195-a15d022bdd21"
      },
      "outputs": [
        {
          "output_type": "stream",
          "name": "stdout",
          "text": [
            "3\n"
          ]
        }
      ],
      "source": [
        "def check_types(func):\n",
        "    @wraps(func)\n",
        "    def wrapper(*args, **kwargs):\n",
        "        annotations = func.__annotations__\n",
        "        sig = inspect.signature(func)\n",
        "        bound_args = sig.bind(*args, **kwargs)\n",
        "        bound_args.apply_defaults()\n",
        "\n",
        "        for name, value in bound_args.arguments.items():\n",
        "            if name in annotations:\n",
        "                expected_type = annotations[name]\n",
        "                if not isinstance(value, expected_type):\n",
        "                    raise TypeError\n",
        "\n",
        "        result = func(*args, **kwargs)\n",
        "\n",
        "        if 'return' in annotations:\n",
        "            expected_return_type = annotations['return']\n",
        "            if not isinstance(result, expected_return_type):\n",
        "                raise TypeError\n",
        "\n",
        "        return result\n",
        "    return wrapper\n",
        "\n",
        "@check_types\n",
        "def add(a: int, b: int) -> int:\n",
        "    return a + b\n",
        "\n",
        "print(add(1, 2))\n",
        "#print(add(\"1\", \"2\"))"
      ]
    },
    {
      "cell_type": "markdown",
      "metadata": {
        "id": "fceBNTpUnip6"
      },
      "source": [
        "### Task 4 (optional)\n",
        "\n",
        "Create a function that caches the result of a function, so that if it is called with the same argument multiple times, it returns the cached result first instead of re-executing the function."
      ]
    },
    {
      "cell_type": "code",
      "execution_count": 16,
      "metadata": {
        "id": "VsoALrbBnsjs",
        "tags": [
          "task_4"
        ],
        "colab": {
          "base_uri": "https://localhost:8080/"
        },
        "outputId": "4dcfce04-dcf7-405e-99bc-7db1b5dd3224"
      },
      "outputs": [
        {
          "output_type": "stream",
          "name": "stdout",
          "text": [
            "Calculating result for (4,)\n",
            "16\n",
            "Fetching cached result for (4,)\n",
            "16\n",
            "Calculating result for (5,)\n",
            "25\n",
            "Fetching cached result for (4,)\n",
            "16\n"
          ]
        }
      ],
      "source": [
        "def cache(func):\n",
        "    cached_results = {}\n",
        "\n",
        "    @wraps(func)\n",
        "    def wrapper(*args):\n",
        "        if args in cached_results:\n",
        "            print(f\"Fetching cached result for {args}\")\n",
        "            return cached_results[args]\n",
        "\n",
        "        print(f\"Calculating result for {args}\")\n",
        "        result = func(*args)\n",
        "        cached_results[args] = result\n",
        "        return result\n",
        "\n",
        "    return wrapper\n",
        "\n",
        "@cache\n",
        "def expensive_computation(x):\n",
        "    return x * x\n",
        "\n",
        "print(expensive_computation(4))\n",
        "print(expensive_computation(4))\n",
        "print(expensive_computation(5))\n",
        "print(expensive_computation(4))\n"
      ]
    },
    {
      "cell_type": "markdown",
      "metadata": {
        "id": "YpehHVhuMOVj"
      },
      "source": [
        "### Task 5 (optional)\n",
        "\n",
        "Write a decorator that adds a rate-limiter to a function, so that it can only be called a certain amount of times per minute"
      ]
    }
  ],
  "metadata": {
    "colab": {
      "provenance": [],
      "toc_visible": true
    },
    "kernelspec": {
      "display_name": "venv",
      "language": "python",
      "name": "python3"
    },
    "language_info": {
      "codemirror_mode": {
        "name": "ipython",
        "version": 3
      },
      "file_extension": ".py",
      "mimetype": "text/x-python",
      "name": "python",
      "nbconvert_exporter": "python",
      "pygments_lexer": "ipython3",
      "version": "3.11.5"
    },
    "orig_nbformat": 4
  },
  "nbformat": 4,
  "nbformat_minor": 0
}